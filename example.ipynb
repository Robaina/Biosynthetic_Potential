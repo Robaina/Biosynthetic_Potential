{
 "cells": [
  {
   "cell_type": "markdown",
   "metadata": {},
   "source": [
    "# Query genomes by chemical compound structure\n",
    "\n",
    "In this notebook, we will query..."
   ]
  },
  {
   "cell_type": "markdown",
   "metadata": {},
   "source": [
    "## Preprocessing (optional)"
   ]
  },
  {
   "cell_type": "code",
   "execution_count": null,
   "metadata": {},
   "outputs": [],
   "source": [
    "from pathlib import Path\n",
    "from chemsearch.preprocess import preprocess_reactions, process_reactions_to_dataframe\n",
    "\n",
    "reactions_json = Path(\"/home/robaina/Databases/modelseed/reactions.json\")\n",
    "compounds_json = Path(\"/home/robaina/Databases/modelseed/compounds.json\")\n",
    "\n",
    "reactions = preprocess_reactions(reactions_json, compounds_json, complete_smiles=True)\n",
    "\n",
    "df = process_reactions_to_dataframe(reactions)\n",
    "df.to_csv(\"data/compound_ec_database.tsv\", sep=\"\\t\", index=False)"
   ]
  },
  {
   "cell_type": "code",
   "execution_count": 1,
   "metadata": {},
   "outputs": [
    {
     "data": {
      "text/html": [
       "<div>\n",
       "<style scoped>\n",
       "    .dataframe tbody tr th:only-of-type {\n",
       "        vertical-align: middle;\n",
       "    }\n",
       "\n",
       "    .dataframe tbody tr th {\n",
       "        vertical-align: top;\n",
       "    }\n",
       "\n",
       "    .dataframe thead th {\n",
       "        text-align: right;\n",
       "    }\n",
       "</style>\n",
       "<table border=\"1\" class=\"dataframe\">\n",
       "  <thead>\n",
       "    <tr style=\"text-align: right;\">\n",
       "      <th></th>\n",
       "      <th>compound_id</th>\n",
       "      <th>compound_name</th>\n",
       "      <th>SMILES</th>\n",
       "      <th>ec_numbers</th>\n",
       "      <th>reaction_ids</th>\n",
       "    </tr>\n",
       "  </thead>\n",
       "  <tbody>\n",
       "    <tr>\n",
       "      <th>0</th>\n",
       "      <td>cpd00001</td>\n",
       "      <td>h2o</td>\n",
       "      <td>O</td>\n",
       "      <td>3.4.22.41;3.5.1.25;3.1.2.28;4.1.99.18;3.1.3.77...</td>\n",
       "      <td>R04975;RXN-8108.c;3.6.3.44-RXN.ce.metaexp.CPD-...</td>\n",
       "    </tr>\n",
       "    <tr>\n",
       "      <th>1</th>\n",
       "      <td>cpd00012</td>\n",
       "      <td>ppi</td>\n",
       "      <td>O=P([O-])([O-])OP(=O)([O-])O</td>\n",
       "      <td>6.1.1.20;2.7.7.4;6.1.-.-;4.1.99.18;2.7.7.86;6....</td>\n",
       "      <td>R01668;rxn1118_p;R_ANNATn;R02328;RXN-8577.c;JM...</td>\n",
       "    </tr>\n",
       "    <tr>\n",
       "      <th>2</th>\n",
       "      <td>cpd00009</td>\n",
       "      <td>pi</td>\n",
       "      <td>O=P([O-])([O-])O</td>\n",
       "      <td>5.6.1.i;2.4.2.2;3.6.1.64;4.2.3.5;6.3.3.2;3.6.3...</td>\n",
       "      <td>R_GLCPh;PNP1_11;JM_Cre_390;3.6.3.44-RXN.ce.met...</td>\n",
       "    </tr>\n",
       "    <tr>\n",
       "      <th>3</th>\n",
       "      <td>cpd00067</td>\n",
       "      <td>h</td>\n",
       "      <td>[H+]</td>\n",
       "      <td>1.1.1.6;1.3.1.40;1.1.1.21;1.15.1.2;4.1.1.81;2....</td>\n",
       "      <td>NQOR-RXN.d.metaexp.2-HEXAPRENYL-3-METHYL-6-MET...</td>\n",
       "    </tr>\n",
       "    <tr>\n",
       "      <th>4</th>\n",
       "      <td>cpd00742</td>\n",
       "      <td>allphn</td>\n",
       "      <td>NC(=O)NC(=O)[O-]</td>\n",
       "      <td>3.5.1.54;6.3.4.6;3.5.1.84</td>\n",
       "      <td>R_ALPHm;UREA-CARBOXYLASE-RXN.c;R00774;R_URCBm;...</td>\n",
       "    </tr>\n",
       "  </tbody>\n",
       "</table>\n",
       "</div>"
      ],
      "text/plain": [
       "  compound_id  ...                                       reaction_ids\n",
       "0    cpd00001  ...  R04975;RXN-8108.c;3.6.3.44-RXN.ce.metaexp.CPD-...\n",
       "1    cpd00012  ...  R01668;rxn1118_p;R_ANNATn;R02328;RXN-8577.c;JM...\n",
       "2    cpd00009  ...  R_GLCPh;PNP1_11;JM_Cre_390;3.6.3.44-RXN.ce.met...\n",
       "3    cpd00067  ...  NQOR-RXN.d.metaexp.2-HEXAPRENYL-3-METHYL-6-MET...\n",
       "4    cpd00742  ...  R_ALPHm;UREA-CARBOXYLASE-RXN.c;R00774;R_URCBm;...\n",
       "\n",
       "[5 rows x 5 columns]"
      ]
     },
     "execution_count": 1,
     "metadata": {},
     "output_type": "execute_result"
    }
   ],
   "source": [
    "import pandas as pd\n",
    "\n",
    "rxn_df = pd.read_csv(\"data/compound_ec_database.tsv\", sep=\"\\t\")\n",
    "rxn_df.head()"
   ]
  },
  {
   "cell_type": "markdown",
   "metadata": {},
   "source": [
    "## Filter database by chemical compound structure\n",
    "\n",
    "We will use the RDKit library to compute chemical fingerprints from SMILES strings and compare them to the query compound through the tanimoto distance. \n",
    "\n",
    "We can input several SMILES at the same time. Similarly, we can either input a list of similarity thresholds (a value of 1 meaning a perfect structural match) for each compound, or a single value, in which case the same threshold value will be applied to all input compounds."
   ]
  },
  {
   "cell_type": "code",
   "execution_count": null,
   "metadata": {},
   "outputs": [],
   "source": [
    "from chemsearch.query import query_reaction_database_by_smiles\n",
    "\n",
    "target_smiles = ['[H][C@]12SC(C)(C)[C@@H](N1C(=O)[C@H]2NC(=O)CC1=CC=CC=C1)C(O)=O', 'C(C1C(C(C(C(O1)O)O)O)O)O']\n",
    "threshold = [0.7, 0.75]\n",
    "\n",
    "res = query_reaction_database_by_smiles(df, target_smiles, threshold)\n",
    "res.head()"
   ]
  },
  {
   "cell_type": "markdown",
   "metadata": {},
   "source": [
    "## Retrieving genomes producing the query compound\n",
    "\n",
    "We will next..."
   ]
  },
  {
   "cell_type": "code",
   "execution_count": null,
   "metadata": {},
   "outputs": [],
   "source": [
    "from chemsearch.preprocess import parse_genome_ec_numbers\n",
    "\n",
    "directory_path = \"data/genomes_ec\"\n",
    "genome_data = parse_genome_ec_numbers(directory_path)"
   ]
  },
  {
   "cell_type": "markdown",
   "metadata": {},
   "source": [
    "Now we are ready to query our genomes for the target compounds."
   ]
  },
  {
   "cell_type": "code",
   "execution_count": null,
   "metadata": {},
   "outputs": [],
   "source": [
    "from chemsearch.query import extract_genome_hits\n",
    "\n",
    "hits = extract_genome_hits(res, genome_data)\n",
    "hits.to_csv(\"hits.tsv\", sep=\"\\t\", index=False)\n",
    "hits.head()"
   ]
  }
 ],
 "metadata": {
  "kernelspec": {
   "display_name": "chemsearch",
   "language": "python",
   "name": "python3"
  },
  "language_info": {
   "codemirror_mode": {
    "name": "ipython",
    "version": 3
   },
   "file_extension": ".py",
   "mimetype": "text/x-python",
   "name": "python",
   "nbconvert_exporter": "python",
   "pygments_lexer": "ipython3",
   "version": "3.12.3"
  }
 },
 "nbformat": 4,
 "nbformat_minor": 2
}
